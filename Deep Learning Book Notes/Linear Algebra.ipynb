{
 "cells": [
  {
   "cell_type": "code",
   "execution_count": 1,
   "id": "66ee5a9b",
   "metadata": {},
   "outputs": [],
   "source": [
    "import numpy as np\n",
    "import matplotlib.pyplot as plt"
   ]
  },
  {
   "cell_type": "markdown",
   "id": "34f85340",
   "metadata": {},
   "source": [
    "Snippet for plotting vectors with colors:"
   ]
  },
  {
   "cell_type": "code",
   "execution_count": 2,
   "id": "2758428a",
   "metadata": {},
   "outputs": [],
   "source": [
    "def plot_vectors(vectors, color):\n",
    "    origin = [0, 0]\n",
    "    plt.grid(visible=True)\n",
    "    for idx, vector in enumerate(vectors):\n",
    "        plt.quiver(\n",
    "            [origin[0]],\n",
    "            [origin[1]],\n",
    "            [vector[0]],\n",
    "            [vector[1]],\n",
    "            color=color[idx],\n",
    "            angles='xy',\n",
    "            scale_units='xy',\n",
    "            scale=1.)\n",
    "    plt.gca().set_aspect('equal')"
   ]
  },
  {
   "cell_type": "markdown",
   "id": "3fe838d8",
   "metadata": {},
   "source": [
    "### Effect of matrix multiplication on vectors"
   ]
  },
  {
   "cell_type": "markdown",
   "id": "61dec921",
   "metadata": {},
   "source": [
    "When we apply a matrix to a vector, we end up with a transformed version of the vector. When we say that we apply the matrix to the vector, it means that we calculate the dot product of the matrix with the vector.\n",
    "The transformed vector is rescaled & rotated version of the original vector."
   ]
  },
  {
   "cell_type": "markdown",
   "id": "93011272",
   "metadata": {},
   "source": [
    "Let's have vector $v = 2\\hat{i} + 2\\hat{j}$. In matrix form, it can be written as $v=[2, 2]$. Graphically this vector looks like the following."
   ]
  },
  {
   "cell_type": "code",
   "execution_count": 3,
   "id": "0d6ef0a6",
   "metadata": {},
   "outputs": [
    {
     "data": {
      "image/png": "[encoded data removed]",
      "text/plain": [
       "<Figure size 504x504 with 1 Axes>"
      ]
     },
     "metadata": {
      "needs_background": "light"
     },
     "output_type": "display_data"
    }
   ],
   "source": [
    "v = np.array([2, 2])\n",
    "plt.figure(figsize=(7, 7))\n",
    "plt.xlim(-4, 4)\n",
    "plt.ylim(-4, 4)\n",
    "plot_vectors([v], color=[\"deeppink\"])"
   ]
  },
  {
   "cell_type": "markdown",
   "id": "26a13071",
   "metadata": {},
   "source": [
    "For simplicity, we'll do multiplication with diagonal matrix, \n",
    "$$\n",
    "D = \\begin{bmatrix}\n",
    "2 & 0\\\\\n",
    "0 & 2\n",
    "\\end{bmatrix}\n",
    "$$"
   ]
  },
  {
   "cell_type": "code",
   "execution_count": 4,
   "id": "7ddfad06",
   "metadata": {},
   "outputs": [],
   "source": [
    "D = np.array([[2, 0], [0, 2]])"
   ]
  },
  {
   "cell_type": "code",
   "execution_count": 5,
   "id": "f8982a68",
   "metadata": {},
   "outputs": [
    {
     "data": {
      "text/plain": [
       "array([4, 4])"
      ]
     },
     "execution_count": 5,
     "metadata": {},
     "output_type": "execute_result"
    }
   ],
   "source": [
    "np.dot(D, v)"
   ]
  },
  {
   "cell_type": "markdown",
   "id": "eabe9607",
   "metadata": {},
   "source": [
    "Multiplication with diagonal matrix $D$ with same diagonal values gives us scaled version of original vector $v$."
   ]
  },
  {
   "cell_type": "code",
   "execution_count": 6,
   "id": "35e13792",
   "metadata": {},
   "outputs": [
    {
     "data": {
      "image/png": "[encoded data removed]",
      "text/plain": [
       "<Figure size 504x504 with 1 Axes>"
      ]
     },
     "metadata": {
      "needs_background": "light"
     },
     "output_type": "display_data"
    }
   ],
   "source": [
    "plt.figure(figsize=(7, 7))\n",
    "plt.xlim(-1, 10)\n",
    "plt.ylim(-1, 10)\n",
    "plot_vectors([v, np.dot(D, v)], color=[\"deeppink\", \"teal\"])"
   ]
  },
  {
   "cell_type": "markdown",
   "id": "bfeadc03",
   "metadata": {},
   "source": [
    "#### Example 2:\n",
    "Now, we'll try different values for diagonal elements, such that\n",
    "$$\n",
    "D = \\begin{bmatrix}\n",
    "2 & 0\\\\\n",
    "0 & 3\n",
    "\\end{bmatrix}\n",
    "$$"
   ]
  },
  {
   "cell_type": "code",
   "execution_count": 7,
   "id": "2b4cc5bb",
   "metadata": {},
   "outputs": [],
   "source": [
    "D = np.array([[2, 0], [0, 3]])"
   ]
  },
  {
   "cell_type": "code",
   "execution_count": 8,
   "id": "721f6436",
   "metadata": {},
   "outputs": [
    {
     "data": {
      "text/plain": [
       "[array([4, 6])]"
      ]
     },
     "execution_count": 8,
     "metadata": {},
     "output_type": "execute_result"
    }
   ],
   "source": [
    "[np.dot(D, v)]"
   ]
  },
  {
   "cell_type": "code",
   "execution_count": 9,
   "id": "80318e0d",
   "metadata": {},
   "outputs": [
    {
     "data": {
      "image/png": "[encoded data removed]",
      "text/plain": [
       "<Figure size 504x504 with 1 Axes>"
      ]
     },
     "metadata": {
      "needs_background": "light"
     },
     "output_type": "display_data"
    }
   ],
   "source": [
    "plt.figure(figsize=(7, 7))\n",
    "plt.xlim(-1, 10)\n",
    "plt.ylim(-1, 10)\n",
    "plot_vectors([v, np.dot(D, v)], color=[\"deeppink\", \"teal\"])"
   ]
  },
  {
   "cell_type": "markdown",
   "id": "3dafcabe",
   "metadata": {},
   "source": [
    "#### Example 3:\n",
    "For \n",
    "$$\n",
    "D = \\begin{bmatrix}\n",
    "2 & 1\\\\\n",
    "-3 & 2\n",
    "\\end{bmatrix}\n",
    "$$"
   ]
  },
  {
   "cell_type": "code",
   "execution_count": 10,
   "id": "69c1ac4d",
   "metadata": {},
   "outputs": [],
   "source": [
    "D = np.array([[2, 1], [-3, 2]])"
   ]
  },
  {
   "cell_type": "code",
   "execution_count": 11,
   "id": "fc8adce0",
   "metadata": {},
   "outputs": [
    {
     "data": {
      "text/plain": [
       "array([ 6, -2])"
      ]
     },
     "execution_count": 11,
     "metadata": {},
     "output_type": "execute_result"
    }
   ],
   "source": [
    "np.dot(D, v)"
   ]
  },
  {
   "cell_type": "code",
   "execution_count": 12,
   "id": "93d5079a",
   "metadata": {},
   "outputs": [
    {
     "data": {
      "image/png": "[encoded data removed]",
      "text/plain": [
       "<Figure size 504x504 with 1 Axes>"
      ]
     },
     "metadata": {
      "needs_background": "light"
     },
     "output_type": "display_data"
    }
   ],
   "source": [
    "plt.figure(figsize=(7, 7))\n",
    "plt.xlim(-1, 10)\n",
    "plt.ylim(-5, 5)\n",
    "plot_vectors([v, np.dot(D, v)], color=[\"deeppink\", \"teal\"])"
   ]
  },
  {
   "cell_type": "markdown",
   "id": "4ad5b2ca",
   "metadata": {},
   "source": [
    "## Eigenvector & Eigenvalues"
   ]
  },
  {
   "cell_type": "markdown",
   "id": "b8dc0ed6",
   "metadata": {},
   "source": [
    "An eigenvector of a square matrix $A$ is a nonzero vector $v$ such that multiplication by $A$ alters only the scale of $v$:\n",
    "$$ Av = \\lambda v $$\n",
    "the scalar $\\lambda$ is known as the eigenvalue corresponding to this eigenvector."
   ]
  },
  {
   "cell_type": "code",
   "execution_count": 13,
   "id": "1afeb7cb",
   "metadata": {},
   "outputs": [],
   "source": [
    "A = np.array([[1,2], [3,2]])"
   ]
  },
  {
   "cell_type": "markdown",
   "id": "8f6abe7e",
   "metadata": {},
   "source": [
    "Eigenvectors & eigenvalues in python can be calculated using `numpy.linalg.eig` function. The function takes a square matrix & returns a tuple containing eigenvalues & eigenvectors."
   ]
  },
  {
   "cell_type": "code",
   "execution_count": 14,
   "id": "bb16e85b",
   "metadata": {},
   "outputs": [
    {
     "name": "stdout",
     "output_type": "stream",
     "text": [
      "Eigenvalues: [-1.  4.]\n",
      "Eigenvectors: [[-0.70710678 -0.5547002 ]\n",
      " [ 0.70710678 -0.83205029]]\n"
     ]
    }
   ],
   "source": [
    "eig_val, eig_vec = np.linalg.eig(A)\n",
    "print(\"Eigenvalues:\", eig_val)\n",
    "print(\"Eigenvectors:\", eig_vec)"
   ]
  },
  {
   "cell_type": "markdown",
   "id": "0547c2c2",
   "metadata": {},
   "source": [
    "In the returned eigenvector matrix(second element of tuple), eigenvectors are along the each column. "
   ]
  },
  {
   "cell_type": "code",
   "execution_count": 15,
   "id": "dd4cfe5c",
   "metadata": {
    "hide_input": true,
    "tags": [
     "hide_input"
    ]
   },
   "outputs": [
    {
     "name": "stdout",
     "output_type": "stream",
     "text": [
      "1st Eigenvalue is: -1.0 & 2nd Eigenvalue is: 4.0.\n",
      "1st Eigenvector is: [-0.70710678  0.70710678] & 2nd Eigenvector is: [-0.5547002  -0.83205029].\n"
     ]
    }
   ],
   "source": [
    "print(f\"1st Eigenvalue is: {eig_val[0]} & 2nd Eigenvalue is: {eig_val[1]}.\")\n",
    "print(f\"1st Eigenvector is: {eig_vec[:, 0]} & 2nd Eigenvector is: {eig_vec[:, 1]}.\")"
   ]
  },
  {
   "cell_type": "markdown",
   "id": "493ca752",
   "metadata": {},
   "source": [
    "Now, let's check validity of above equation."
   ]
  },
  {
   "cell_type": "markdown",
   "id": "c77e2134",
   "metadata": {},
   "source": [
    "For $1^{st}$ vector:"
   ]
  },
  {
   "cell_type": "code",
   "execution_count": 16,
   "id": "c11240c0",
   "metadata": {},
   "outputs": [],
   "source": [
    "eig_vec_a = eig_vec[:, 0]\n",
    "eig_val_a = eig_val[0]"
   ]
  },
  {
   "cell_type": "markdown",
   "id": "f2682429",
   "metadata": {},
   "source": [
    "L.H.S: $Av$"
   ]
  },
  {
   "cell_type": "code",
   "execution_count": 17,
   "id": "c497aff1",
   "metadata": {},
   "outputs": [
    {
     "data": {
      "text/plain": [
       "array([ 0.70710678, -0.70710678])"
      ]
     },
     "execution_count": 17,
     "metadata": {},
     "output_type": "execute_result"
    }
   ],
   "source": [
    "np.dot(A, eig_vec_a)"
   ]
  },
  {
   "cell_type": "markdown",
   "id": "07a33ab4",
   "metadata": {},
   "source": [
    "R.H.S: $\\lambda v$"
   ]
  },
  {
   "cell_type": "code",
   "execution_count": 18,
   "id": "449df38f",
   "metadata": {},
   "outputs": [
    {
     "data": {
      "text/plain": [
       "array([ 0.70710678, -0.70710678])"
      ]
     },
     "execution_count": 18,
     "metadata": {},
     "output_type": "execute_result"
    }
   ],
   "source": [
    "eig_val_a * eig_vec_a"
   ]
  },
  {
   "cell_type": "code",
   "execution_count": 19,
   "id": "a898140d",
   "metadata": {},
   "outputs": [
    {
     "data": {
      "image/png": "[encoded data removed]",
      "text/plain": [
       "<Figure size 504x504 with 1 Axes>"
      ]
     },
     "metadata": {
      "needs_background": "light"
     },
     "output_type": "display_data"
    }
   ],
   "source": [
    "plt.figure(figsize=(7, 7))\n",
    "plt.xlim(-2, 2)\n",
    "plt.ylim(-2, 2)\n",
    "plot_vectors(\n",
    "    [eig_vec_a, np.dot(A, eig_vec_a)],\n",
    "    color=[\"deeppink\", \"teal\"])"
   ]
  },
  {
   "cell_type": "markdown",
   "id": "fe133d48",
   "metadata": {},
   "source": [
    "For $2^{nd}$ vector:"
   ]
  },
  {
   "cell_type": "code",
   "execution_count": 20,
   "id": "0dea78a7",
   "metadata": {},
   "outputs": [],
   "source": [
    "eig_vec_b = eig_vec[:, 1]\n",
    "eig_val_b = eig_val[1]"
   ]
  },
  {
   "cell_type": "markdown",
   "id": "8e4983ee",
   "metadata": {},
   "source": [
    "L.H.S: $Av$"
   ]
  },
  {
   "cell_type": "code",
   "execution_count": 21,
   "id": "b110dc61",
   "metadata": {},
   "outputs": [
    {
     "data": {
      "text/plain": [
       "array([-2.21880078, -3.32820118])"
      ]
     },
     "execution_count": 21,
     "metadata": {},
     "output_type": "execute_result"
    }
   ],
   "source": [
    "np.dot(A, eig_vec_b)"
   ]
  },
  {
   "cell_type": "markdown",
   "id": "90f22314",
   "metadata": {},
   "source": [
    "R.H.S: $\\lambda v$"
   ]
  },
  {
   "cell_type": "code",
   "execution_count": 22,
   "id": "4668b80f",
   "metadata": {},
   "outputs": [
    {
     "data": {
      "text/plain": [
       "array([-2.21880078, -3.32820118])"
      ]
     },
     "execution_count": 22,
     "metadata": {},
     "output_type": "execute_result"
    }
   ],
   "source": [
    "eig_val_b * eig_vec_b"
   ]
  },
  {
   "cell_type": "code",
   "execution_count": 23,
   "id": "957a0ce2",
   "metadata": {},
   "outputs": [
    {
     "data": {
      "image/png": "[encoded data removed]",
      "text/plain": [
       "<Figure size 504x504 with 1 Axes>"
      ]
     },
     "metadata": {
      "needs_background": "light"
     },
     "output_type": "display_data"
    }
   ],
   "source": [
    "plt.figure(figsize=(7, 7))\n",
    "plt.xlim(-5, 2)\n",
    "plt.ylim(-5, 2)\n",
    "plot_vectors([eig_vec_b], color=[\"deeppink\"])\n",
    "plot_vectors([np.dot(A, eig_vec_b)], color=[\"teal\"])"
   ]
  },
  {
   "cell_type": "markdown",
   "id": "0c676952",
   "metadata": {},
   "source": [
    "What if we have rescaled version of a eigenvector?\n",
    "<br>If $v$ is an eigenvector $A$, then any rescaled vector $sv$, where $s \\in R, s \\ne 0$, is also an eigenvector. Moreover, $sv$ still has the same eigenvalue. For this reason, we generally are interested in unit eigenvectors. So, to keep eigenvectors un unit norm, the scaling is provided to the eigenvalues. See below example:"
   ]
  },
  {
   "cell_type": "code",
   "execution_count": 24,
   "id": "5c044d4f",
   "metadata": {},
   "outputs": [
    {
     "data": {
      "text/plain": [
       "(array([-1.,  4.]),\n",
       " array([[-0.70710678, -0.5547002 ],\n",
       "        [ 0.70710678, -0.83205029]]))"
      ]
     },
     "execution_count": 24,
     "metadata": {},
     "output_type": "execute_result"
    }
   ],
   "source": [
    "np.linalg.eig(A)"
   ]
  },
  {
   "cell_type": "code",
   "execution_count": 25,
   "id": "57dd4cda",
   "metadata": {},
   "outputs": [
    {
     "data": {
      "text/plain": [
       "(array([-3., 12.]),\n",
       " array([[-0.70710678, -0.5547002 ],\n",
       "        [ 0.70710678, -0.83205029]]))"
      ]
     },
     "execution_count": 25,
     "metadata": {},
     "output_type": "execute_result"
    }
   ],
   "source": [
    "np.linalg.eig(3*A)"
   ]
  },
  {
   "cell_type": "markdown",
   "id": "4c9cf2db",
   "metadata": {},
   "source": [
    "Notice we have same eigenvectors in both cases (because we are always interested in unit eigenvectors) & the effect of scaling is seen only in eigenvalues. In short, __scale eigenvectors & keep eigenvalues same__ or __scale eigenvalues & keep eigenvectors same__, both are same thing."
   ]
  },
  {
   "cell_type": "markdown",
   "id": "46553fd1",
   "metadata": {},
   "source": [
    "Now let's see effect of matrix multiplication on unit circle (all possible unit vectors) & eigenvectors of identity matrix."
   ]
  },
  {
   "cell_type": "code",
   "execution_count": 26,
   "id": "680a0036",
   "metadata": {},
   "outputs": [],
   "source": [
    "def plot_transformed_circle(matrix):\n",
    "    # Taking parametric form of equation of the circle: x^2 + y^2 = r^2\n",
    "    # Where x = cos(t) & y = sin(t)\n",
    "    t = np.linspace(0, 2*np.pi, 1000)\n",
    "    x = np.cos(t)\n",
    "    y = np.sin(t)\n",
    "    # Alternative way:\n",
    "    # Taking standard form of equation of the circle: x^2 + y^2 = r^2\n",
    "    # x = np.linspace(-1, 1, 1000)\n",
    "    # y = np.sqrt(1 - x**2)\n",
    "    # y_neg = -1 * y\n",
    "    coords = np.array([x, y])\n",
    "    transformed_x, transformed_y = np.dot(matrix, coords)\n",
    "    plt.figure(figsize=(7, 7))\n",
    "    plt.xlim(-4, 4)\n",
    "    plt.ylim(-4, 4)\n",
    "    plt.grid(visible=True)\n",
    "    transformed_matrix = np.dot(matrix, np.identity(2))\n",
    "    eig_vals, eig_vecs = np.linalg.eig(transformed_matrix)\n",
    "    plot_vectors(\n",
    "        [\n",
    "            eig_vals[0] * eig_vecs[:, 0],\n",
    "            eig_vals[1] * eig_vecs[:, 1]\n",
    "        ],\n",
    "        color=[\"r\", \"b\"]\n",
    "    )\n",
    "    plt.plot(transformed_x, transformed_y, color=\"purple\")\n",
    "    plt.gca().set_aspect('equal')"
   ]
  },
  {
   "cell_type": "code",
   "execution_count": 27,
   "id": "35cf580f",
   "metadata": {},
   "outputs": [
    {
     "name": "stdout",
     "output_type": "stream",
     "text": [
      "Circle without transformation:\n"
     ]
    },
    {
     "data": {
      "image/png": "[encoded data removed]",
      "text/plain": [
       "<Figure size 504x504 with 1 Axes>"
      ]
     },
     "metadata": {
      "needs_background": "light"
     },
     "output_type": "display_data"
    }
   ],
   "source": [
    "print(\"Circle without transformation:\")\n",
    "plot_transformed_circle(np.identity(2))"
   ]
  },
  {
   "cell_type": "code",
   "execution_count": 28,
   "id": "7ef0c3a6",
   "metadata": {},
   "outputs": [
    {
     "data": {
      "text/plain": [
       "array([[1, 2],\n",
       "       [3, 2]])"
      ]
     },
     "execution_count": 28,
     "metadata": {},
     "output_type": "execute_result"
    }
   ],
   "source": [
    "A = np.array([[1,2], [3,2]])\n",
    "A"
   ]
  },
  {
   "cell_type": "code",
   "execution_count": 29,
   "id": "09472d11",
   "metadata": {},
   "outputs": [
    {
     "name": "stdout",
     "output_type": "stream",
     "text": [
      "Circle with transformation:\n"
     ]
    },
    {
     "data": {
      "image/png": "[encoded data removed]",
      "text/plain": [
       "<Figure size 504x504 with 1 Axes>"
      ]
     },
     "metadata": {
      "needs_background": "light"
     },
     "output_type": "display_data"
    }
   ],
   "source": [
    "print(\"Circle with transformation:\")\n",
    "plot_transformed_circle(A)"
   ]
  },
  {
   "cell_type": "markdown",
   "id": "c8ae1f1d",
   "metadata": {},
   "source": [
    "## Eigendecomposition"
   ]
  },
  {
   "cell_type": "markdown",
   "id": "deda9baf",
   "metadata": {},
   "source": [
    "We know that eigenvector $v$ of matrix $A$ follows:\n",
    "$$ Av = \\lambda v $$"
   ]
  },
  {
   "cell_type": "markdown",
   "id": "f5091ed5",
   "metadata": {},
   "source": [
    "Here $v$ is an $n$-dimensional vector represented as $v = v_1\\hat{i_1} + v_2\\hat{i_2} + ... + v_n\\hat{i_n}$.\n",
    "<br>It can also be written in matrix form as:\n",
    "\n",
    "$$\n",
    "v = \\begin{bmatrix}\n",
    "v_1\\\\\n",
    "v_2\\\\\n",
    ".\\\\\n",
    ".\\\\\n",
    ".\\\\\n",
    "v_n\n",
    "\\end{bmatrix}_{nx1}\n",
    "$$\n",
    "\n",
    "We have $n$ such $n$-dimensional vectors, because it's a square matrix(no. of columns = no. of rows).\n",
    "Each vector $v_p$, where $1<=p<=n$, can be written as:\n",
    "$v_p = v_{p1}\\hat{i_1} + v_{p2}\\hat{i_2} + ... + v_{pn}\\hat{i_n}$"
   ]
  },
  {
   "cell_type": "markdown",
   "id": "57e2c65d",
   "metadata": {},
   "source": [
    "Writing all these eigenvectors in matrix $V$:\n",
    "$$\n",
    "V = \\begin{bmatrix}\n",
    "v_{11} & v_{21} & ... & v_{n1}\\\\\n",
    "v_{12} & v_{22} & ... & v_{n2}\\\\\n",
    ". & . & ... & .\\\\\n",
    ". & . & ... & .\\\\\n",
    ". & . & ... & .\\\\\n",
    "v_{n1} & v_{n1} & ... & v_{nn}\n",
    "\\end{bmatrix}_{nxn}\n",
    "$$"
   ]
  },
  {
   "cell_type": "markdown",
   "id": "a2509ed3",
   "metadata": {},
   "source": [
    "Each eigenvector is associated with an eigenvalue. So:\n",
    "$$\n",
    "\\Lambda = \\begin{bmatrix}\n",
    "\\lambda_1 & 0 & ... & 0\\\\\n",
    "0 & \\lambda_2 & ... &0\\\\\n",
    ". & . & ... & .\\\\\n",
    ". & . & ... & .\\\\\n",
    ". & . & ... & .\\\\\n",
    "0 & 0 & ... & \\lambda_n\n",
    "\\end{bmatrix}_{nxn}\n",
    "$$"
   ]
  },
  {
   "cell_type": "markdown",
   "id": "97a67d07",
   "metadata": {},
   "source": [
    "The equation can be rewritten for all eigenvectors & eigenvalues altogether.\n",
    "$$AV = V\\Lambda$$\n",
    "Post-multiplying $V^{-1}$ both sides, we get:\n",
    "$$AVV^{-1} = V\\Lambda V^{-1}$$\n",
    "$$AI = V\\Lambda V^{-1}$$\n",
    "$$A = V\\Lambda V^{-1}$$\n",
    "This formula is called __eigendecomposition__ of the matrix."
   ]
  },
  {
   "cell_type": "markdown",
   "id": "a81cdf4d",
   "metadata": {},
   "source": [
    "Let's see if the above formula works for our matrix."
   ]
  },
  {
   "cell_type": "code",
   "execution_count": 30,
   "id": "798809c0",
   "metadata": {},
   "outputs": [
    {
     "data": {
      "text/plain": [
       "array([[1, 2],\n",
       "       [3, 2]])"
      ]
     },
     "execution_count": 30,
     "metadata": {},
     "output_type": "execute_result"
    }
   ],
   "source": [
    "A = np.array([[1,2], [3,2]])\n",
    "A"
   ]
  },
  {
   "cell_type": "code",
   "execution_count": 31,
   "id": "7e6505d4",
   "metadata": {},
   "outputs": [],
   "source": [
    "eig_vals, eig_vecs = np.linalg.eig(A)"
   ]
  },
  {
   "cell_type": "code",
   "execution_count": 32,
   "id": "fa94b9f1",
   "metadata": {},
   "outputs": [
    {
     "data": {
      "text/plain": [
       "array([[-1.,  0.],\n",
       "       [ 0.,  4.]])"
      ]
     },
     "execution_count": 32,
     "metadata": {},
     "output_type": "execute_result"
    }
   ],
   "source": [
    "eig_val_mat = np.diag(eig_vals)\n",
    "eig_val_mat"
   ]
  },
  {
   "cell_type": "code",
   "execution_count": 33,
   "id": "4bcdd135",
   "metadata": {},
   "outputs": [
    {
     "data": {
      "text/plain": [
       "array([[1., 2.],\n",
       "       [3., 2.]])"
      ]
     },
     "execution_count": 33,
     "metadata": {},
     "output_type": "execute_result"
    }
   ],
   "source": [
    "np.linalg.multi_dot((eig_vecs, eig_val_mat, np.linalg.inv(eig_vecs)))"
   ]
  },
  {
   "cell_type": "code",
   "execution_count": 34,
   "id": "b866ba6d",
   "metadata": {},
   "outputs": [
    {
     "data": {
      "text/plain": [
       "array([[1, 2],\n",
       "       [3, 2]])"
      ]
     },
     "execution_count": 34,
     "metadata": {},
     "output_type": "execute_result"
    }
   ],
   "source": [
    "A"
   ]
  },
  {
   "cell_type": "markdown",
   "id": "23b47101",
   "metadata": {},
   "source": [
    "Both are same!!!"
   ]
  },
  {
   "cell_type": "markdown",
   "id": "af5039c4",
   "metadata": {},
   "source": [
    "### Eigendecomposition for symmetric matrix"
   ]
  },
  {
   "cell_type": "markdown",
   "id": "f78fd00d",
   "metadata": {},
   "source": [
    "Let's create a symmetric matrix, \n",
    "$$\n",
    "A = \\begin{bmatrix}\n",
    "3 & 5 & -1\\\\\n",
    "5 & -4 & 7\\\\\n",
    "-1 & 7 & 0\n",
    "\\end{bmatrix}\n",
    "$$"
   ]
  },
  {
   "cell_type": "code",
   "execution_count": 35,
   "id": "141ec8ed",
   "metadata": {},
   "outputs": [],
   "source": [
    "A = np.array([[3, 5, -1,], [5, -4, 7], [-1, 7, 0]])"
   ]
  },
  {
   "cell_type": "code",
   "execution_count": 36,
   "id": "ca2a2347",
   "metadata": {},
   "outputs": [],
   "source": [
    "eig_vals, eig_vecs = np.linalg.eig(A)"
   ]
  },
  {
   "cell_type": "code",
   "execution_count": 37,
   "id": "c2e21f20",
   "metadata": {},
   "outputs": [
    {
     "data": {
      "text/plain": [
       "array([-10.83928181,   2.78607154,   7.05321027])"
      ]
     },
     "execution_count": 37,
     "metadata": {},
     "output_type": "execute_result"
    }
   ],
   "source": [
    "eig_vals"
   ]
  },
  {
   "cell_type": "code",
   "execution_count": 38,
   "id": "d4e8548f",
   "metadata": {},
   "outputs": [
    {
     "data": {
      "text/plain": [
       "array([[ 0.32107909, -0.7194394 ,  0.61588567],\n",
       "       [-0.78179935,  0.1656826 ,  0.60111484],\n",
       "       [ 0.53450724,  0.67450443,  0.50926004]])"
      ]
     },
     "execution_count": 38,
     "metadata": {},
     "output_type": "execute_result"
    }
   ],
   "source": [
    "eig_vecs"
   ]
  },
  {
   "cell_type": "markdown",
   "id": "c966ad22",
   "metadata": {},
   "source": [
    "One interesting property with eigenvector matrix $V$ of symmetric matrix $A$ is that $V$ is __orthogonal__. And since $V$ is orthogonal, we can say:\n",
    "$$ V^T = V^{-1} $$\n",
    "\n",
    "So the eigendecomposition formula for symmetric matrix becomes:\n",
    "$$A = V\\Lambda V^T$$\n",
    "\n",
    "Let's verify that:"
   ]
  },
  {
   "cell_type": "code",
   "execution_count": 39,
   "id": "aa351503",
   "metadata": {},
   "outputs": [
    {
     "data": {
      "text/plain": [
       "array([[ 3.,  5., -1.],\n",
       "       [ 5., -4.,  7.],\n",
       "       [-1.,  7.,  0.]])"
      ]
     },
     "execution_count": 39,
     "metadata": {},
     "output_type": "execute_result"
    }
   ],
   "source": [
    "np.around(np.linalg.multi_dot((eig_vecs, np.diag(eig_vals), eig_vecs.T)), decimals=3)"
   ]
  },
  {
   "cell_type": "markdown",
   "id": "536c2bb8",
   "metadata": {},
   "source": [
    "Specifically, every real symmetric matrix is guaranteed to have an eigendecomposition."
   ]
  },
  {
   "cell_type": "markdown",
   "id": "3f277838",
   "metadata": {},
   "source": [
    "We can think matrix & vector/matrix(collection of vectors) multiplication as a step-by-step transformation of the vector.\n",
    "Mathematically speaking, matrix multiplication between $A$ & $v$ is $Av$, where number of columns. in $A$ must be equal to number of rows(dimensions) in $v$.\n",
    "<br>Now, we can easily decompose $A$ using eigendecomposition.\n",
    "$$ Av = (V\\Lambda V^{-1}) v$$\n",
    "Using associative property:\n",
    "$$ (V\\Lambda V^{-1}) v = (V(\\Lambda (V^{-1} v)))$$\n",
    "Let's check the transformation:"
   ]
  },
  {
   "cell_type": "code",
   "execution_count": 40,
   "id": "fa6671e9",
   "metadata": {},
   "outputs": [
    {
     "data": {
      "image/png": "[encoded data removed]",
      "text/plain": [
       "<Figure size 504x504 with 1 Axes>"
      ]
     },
     "metadata": {
      "needs_background": "light"
     },
     "output_type": "display_data"
    }
   ],
   "source": [
    "# Taking parametric form of equation of the circle: x^2 + y^2 = r^2\n",
    "# Where x = cos(t) & y = sin(t)\n",
    "t = np.linspace(0, 2*np.pi, 1000)\n",
    "x = np.cos(t)\n",
    "y = np.sin(t)\n",
    "# Alternative way:\n",
    "# Taking standard form of equation of the circle: x^2 + y^2 = r^2\n",
    "# x = np.linspace(-1, 1, 1000)\n",
    "# y = np.sqrt(1 - x**2)\n",
    "# y_neg = -1 * y\n",
    "plt.figure(figsize=(7, 7))\n",
    "plt.xlim(-4, 4)\n",
    "plt.ylim(-4, 4)\n",
    "coords = np.array([x, y])\n",
    "plt.grid(visible=True)\n",
    "plt.plot(x, y, color=\"purple\")\n",
    "plt.gca().set_aspect('equal')"
   ]
  },
  {
   "cell_type": "code",
   "execution_count": 41,
   "id": "cec00d36",
   "metadata": {},
   "outputs": [
    {
     "data": {
      "text/plain": [
       "array([[1, 2],\n",
       "       [3, 2]])"
      ]
     },
     "execution_count": 41,
     "metadata": {},
     "output_type": "execute_result"
    }
   ],
   "source": [
    "A = np.array([[1,2], [3,2]])\n",
    "A"
   ]
  },
  {
   "cell_type": "code",
   "execution_count": 42,
   "id": "aeb64ed8",
   "metadata": {},
   "outputs": [],
   "source": [
    "eig_vals, eig_vecs = np.linalg.eig(A)"
   ]
  },
  {
   "cell_type": "markdown",
   "id": "b20baabc",
   "metadata": {},
   "source": [
    "First transformation: $V^{-1} v$"
   ]
  },
  {
   "cell_type": "code",
   "execution_count": 43,
   "id": "fe29b872",
   "metadata": {
    "hide_input": false,
    "scrolled": false
   },
   "outputs": [
    {
     "data": {
      "image/png": "[encoded data removed]",
      "text/plain": [
       "<Figure size 504x504 with 1 Axes>"
      ]
     },
     "metadata": {
      "needs_background": "light"
     },
     "output_type": "display_data"
    }
   ],
   "source": [
    "plt.figure(figsize=(7, 7))\n",
    "plt.xlim(-4, 4)\n",
    "plt.ylim(-4, 4)\n",
    "coords = np.array([x, y])\n",
    "V_inv_v = np.dot(np.linalg.inv(eig_vecs), coords)\n",
    "plt.grid(visible=True)\n",
    "plt.plot(V_inv_v[0], V_inv_v[1], color=\"purple\")\n",
    "plt.gca().set_aspect('equal')"
   ]
  },
  {
   "cell_type": "markdown",
   "id": "9dfe85e3",
   "metadata": {},
   "source": [
    "Second transformation: $\\Lambda (V^{-1} v))$"
   ]
  },
  {
   "cell_type": "code",
   "execution_count": 44,
   "id": "6d4af8c5",
   "metadata": {
    "hide_input": false
   },
   "outputs": [
    {
     "data": {
      "image/png": "[encoded data removed]",
      "text/plain": [
       "<Figure size 504x504 with 1 Axes>"
      ]
     },
     "metadata": {
      "needs_background": "light"
     },
     "output_type": "display_data"
    }
   ],
   "source": [
    "plt.figure(figsize=(7, 7))\n",
    "plt.xlim(-5, 5)\n",
    "plt.ylim(-5, 5)\n",
    "Lambda_V_inv_v = np.dot(np.diag(eig_vals), V_inv_v)\n",
    "plt.grid(visible=True)\n",
    "plt.plot(Lambda_V_inv_v[0], Lambda_V_inv_v[1], color=\"purple\")\n",
    "plt.gca().set_aspect('equal')"
   ]
  },
  {
   "cell_type": "markdown",
   "id": "39317b95",
   "metadata": {},
   "source": [
    "Third transformation: $V(\\Lambda (V^{-1} v))$"
   ]
  },
  {
   "cell_type": "code",
   "execution_count": 45,
   "id": "03444386",
   "metadata": {},
   "outputs": [
    {
     "data": {
      "image/png": "[encoded data removed]",
      "text/plain": [
       "<Figure size 504x504 with 1 Axes>"
      ]
     },
     "metadata": {
      "needs_background": "light"
     },
     "output_type": "display_data"
    }
   ],
   "source": [
    "plt.figure(figsize=(7, 7))\n",
    "plt.xlim(-5, 5)\n",
    "plt.ylim(-5, 5)\n",
    "V_Lambda_V_inv_v = np.dot(eig_vecs, Lambda_V_inv_v)\n",
    "plt.grid(visible=True)\n",
    "plt.plot(V_Lambda_V_inv_v[0], V_Lambda_V_inv_v[1], color=\"purple\")\n",
    "plt.gca().set_aspect('equal')"
   ]
  },
  {
   "cell_type": "markdown",
   "id": "964f62c6",
   "metadata": {},
   "source": [
    "Let's compare all by plotting them altogether."
   ]
  },
  {
   "cell_type": "code",
   "execution_count": 46,
   "id": "7e5032ba",
   "metadata": {
    "hide_input": true
   },
   "outputs": [
    {
     "data": {
      "image/png": "[encoded data removed]",
      "text/plain": [
       "<Figure size 504x504 with 1 Axes>"
      ]
     },
     "metadata": {
      "needs_background": "light"
     },
     "output_type": "display_data"
    }
   ],
   "source": [
    "plt.figure(figsize=(7, 7))\n",
    "plt.xlim(-5, 5)\n",
    "plt.ylim(-5, 5)\n",
    "coords = np.array([x, y])\n",
    "V_inv_v = np.dot(np.linalg.inv(eig_vecs), coords)\n",
    "plt.grid(visible=True)\n",
    "colors = [\"limegreen\", \"crimson\", \"fuchsia\", \"tomato\"]\n",
    "plt.plot(x, y, color=colors[0])\n",
    "plt.plot(V_inv_v[0], V_inv_v[1], color=colors[1])\n",
    "plt.plot(Lambda_V_inv_v[0], Lambda_V_inv_v[1], color=colors[2])\n",
    "plt.plot(V_Lambda_V_inv_v[0], V_Lambda_V_inv_v[1], color=colors[3])\n",
    "plt.legend(labels=[\"original\", \"first transformation\", \"second transformation\", \"third transformation\"])\n",
    "plt.gca().set_aspect('equal')"
   ]
  },
  {
   "cell_type": "markdown",
   "id": "08d5a3f1",
   "metadata": {},
   "source": [
    "### Applications of eigendecomposition:"
   ]
  },
  {
   "cell_type": "markdown",
   "id": "d933cb90",
   "metadata": {},
   "source": [
    "#### 1. Eigenvectors & eigenvalues of inverse matrix:\n",
    "We know that $A = V\\Lambda V^{-1}$. So, \n",
    "$$(A)^{-1} = (V\\Lambda V^{-1})^{-1}$$\n",
    "$$A^{-1} = (V\\Lambda V^{-1})^{-1}$$\n",
    "Using matrix property, $ (ABC)^{-1} = C^{-1}B^{-1}A^{-1}$, we get\n",
    "$$A^{-1} = (V^{-1})^{-1}(\\Lambda)^{-1} (V)^{-1}$$\n",
    "<br>\n",
    "$$A^{-1} = V\\Lambda^{-1}V^{-1}$$\n",
    "<br>\n",
    "Since this equation is eigendecomposition of $A^{-1}$, we can say that $V$ is an eigenvector matrix of $A^{-1}$, which means $A$ & $A^{-1}$, both have same eigenvectors. $\\Lambda^{-1}$ is the eigenvalues of $A^{-1}$.\n",
    "$\\Lambda$ is a diagonal matrix containing eigenvalues of $A$, where $\\Lambda_{ii} = \\lambda_{i}$, hence $\\Lambda^{-1}$ can be easily calculated by doing $\\Lambda^{-1}_{ii} = \\frac{1}{\\lambda_{i}}$ (property of diagonal matrix), where $\\lambda_{i} \\ne 0$.\n"
   ]
  },
  {
   "cell_type": "markdown",
   "id": "188a7037",
   "metadata": {},
   "source": [
    "#### 2. Optimizing quadratic equations:\n",
    "Quadratic equations can be expressed in matrix form.\n",
    "$$f(x)= \\begin{bmatrix}\n",
    "x_1\\\\\n",
    "x_2\n",
    "\\end{bmatrix}\n",
    "\\begin{bmatrix}\n",
    "a & b\\\\\n",
    "c & d\n",
    "\\end{bmatrix}\n",
    "\\begin{bmatrix}\n",
    "x_1 & x_2\n",
    "\\end{bmatrix} = x^TAx$$\n",
    "\n",
    "$$f(x)=ax^2_1+(b+c)x_1x_2+dx_2^2$$\n",
    "\n",
    "For simplicity let's take symmetric matrix.\n",
    "$$f(x)= \\begin{bmatrix}\n",
    "x_1\\\\\n",
    "x_2\n",
    "\\end{bmatrix}\n",
    "\\begin{bmatrix}\n",
    "a & b\\\\\n",
    "b & d\n",
    "\\end{bmatrix}\n",
    "\\begin{bmatrix}\n",
    "x_1 & x_2\n",
    "\\end{bmatrix} = x^TAx$$\n",
    "\n",
    "$$f(x)=ax^2_1+2bx_1x_2+dx_2^2$$\n",
    "To optimize the equation, we have to get rid of cross terms (non-squared terms). For that we have to get rid of everything in the matrix except for the main diagonal.\n",
    "We can do __change in variable__ using __Principal Axes Theorem__.\n",
    "<br><br>__Principal Axes Theorem__:\n",
    "<br> We can substitute $x=Py$ in quadratic equation $x^TAx$, where $P$ is a matrix. \n",
    "$$x^TAx = (Py)^TA(Py)$$\n",
    "$$x^TAx = y^TP^TAPy$$\n",
    "$$x^TAx = y^T(P^TAP)y$$\n",
    "<br><br>We have eigendecomposition equation for symmetric matrix, $$A = V\\Lambda V^T$$\n",
    "Pre-multiply both sides with $V^T$, $$V^TA = V^TV\\Lambda V^T$$\n",
    "We also know that $V$ is orthogonal matrix, so $V^TV = I$.\n",
    "$V^T$, $$V^TA = \\Lambda V^T$$\n",
    "Post-multiply both sides with $V$, $$V^TAV = \\Lambda V^TV$$\n",
    "We, now have $$V^TAV = \\Lambda $$\n",
    "<br><br>\n",
    "Look closely to both equations, viz, $$x^TAx = y^T(P^TAP)y$$ and $$V^TAV = \\Lambda $$\n",
    "In both equations $A$ is symmetric matrix. $(P^TAP)$ & $\\Lambda$ are diagonal matrices. With that being said, $P$ can be eigenvector matrix of $A$, that means $(P^TAP)$ can be replaced by $\\Lambda$.\n",
    "The quadratic equation now changes to:\n",
    "$$x^TAx = y^T\\Lambda y$$ where $\\Lambda$ is eigenvalues of $A$.\n",
    "The equation can be rewritten as\n",
    "$$f(x)= \\begin{bmatrix}\n",
    "y_1\\\\\n",
    "y_2\n",
    "\\end{bmatrix}\n",
    "\\begin{bmatrix}\n",
    "\\lambda_1 & 0\\\\\n",
    "0 & \\lambda_2\n",
    "\\end{bmatrix}\n",
    "\\begin{bmatrix}\n",
    "y_1 & y_2\n",
    "\\end{bmatrix} = x^TAx = \\lambda_1y^2_1+\\lambda_2y_2^2$$\n",
    "For n-variables we have: $f(x)=  \\lambda_1y^2_1 + \\lambda_2y_2^2 + ....... + \\lambda_ny^2_n$\n",
    "<br><br>To optimize quadratic expressions subject to $||x||_2$.\n",
    "Since $x=Py$,\n",
    "$$x^Tx = (Py)^TPy$$\n",
    "$$x^Tx = y^TP^TPy$$\n",
    "$x^Tx = y^Ty$ (because these are orthogonal matrix, hence $P^TP = I$)\n",
    "$$||x|| = ||y|| = 1$$\n",
    "$$y^2_1+y_2^2 = 1$$\n",
    "Now optimizing $f(x) = \\lambda_1y^2_1+\\lambda_2y_2^2$, let's assume $\\lambda_1 > \\lambda_2$.\n",
    "Then, $$\\lambda_1y^2_1 \\ge \\lambda_2y^2_1$$\n",
    "Adding $\\lambda_2y_2^2$ both sides,\n",
    "$$\\lambda_1y^2_1 + \\lambda_2y_2^2 \\ge \\lambda_2y^2_1 + \\lambda_2y_2^2$$\n",
    "$$\\lambda_1y^2_1 + \\lambda_2y_2^2 \\ge \\lambda_2(||y||_2)$$\n",
    "$$\\lambda_1y^2_1 + \\lambda_2y_2^2 \\ge \\lambda_2$$\n",
    "$$f(x) \\ge \\lambda_2$$\n",
    "__Minimum value of $f(x)$ is $\\lambda_2$. Similarly, Maximum value of $f(x)$ is $\\lambda_1$.__\n",
    "<br><br>\n",
    "Instead of doing all these derivation, there is a shortcut.\n",
    "$$f(x) = x^TAx$$\n",
    "Let's assume $x$ as eigenvector of $A$,\n",
    "$$f(x) = x^T\\lambda x  = \\lambda x^Tx = \\lambda ||x||_2 = \\lambda$$\n",
    "$$f(x) = \\lambda$$\n",
    "Whenever $x$ is equal to an eigenvector of $A$, $f$ takes on the value if the correspoing eigenvalue. The maximum value of $f$ within the constraint region is the maximum eigenvalue & its minimum value within the constraint region is the minimum eigenvalue."
   ]
  },
  {
   "cell_type": "markdown",
   "id": "2b26e5a7",
   "metadata": {},
   "source": [
    "## Singular Value Decomposition\n",
    "Earlier, we saw how to decompose matrix into eigenvalues & eigenvectors using eigendecomposition. The __singular value decomposition(SVD)__ provides another way to factorize/decompose a matrix, into __singular values__ & __singular vectors__. Every real matrix has a singular value decomposition, but the same is not true of the eigendecomposition. For example, if a matrix is not square the, eigendecomposition is not defined, and we must use a singular value decomposition instead."
   ]
  },
  {
   "cell_type": "markdown",
   "id": "dcb4453c",
   "metadata": {},
   "source": [
    "We defined eigendecomposition as,\n",
    "$$A = V\\Lambda V^{-1}$$\n",
    "The singular value decomposition is similar, except this time we will use product of three different matrices to form $A$,\n",
    "$$A = UDV^T$$\n",
    "Suppose $A$ is an $m \\times n$ matrix. Then $U$ is defined to be an $m \\times m$ matrix, $D$ to be an $m \\times n$ matrix, and $V$ to be an $n \\times n$ matrix.\n",
    "The columns of $U$ are know as __left-singular vectors__ of $A$.\n",
    "The elements along the diagonal of $D$ are know as __singular values__ of $A$.\n",
    "The columns of $V$ are know as __right-singular vectors__ of $A$."
   ]
  },
  {
   "cell_type": "markdown",
   "id": "44ee4422",
   "metadata": {},
   "source": [
    "Let's calculate SVD in python for \n",
    "$$\n",
    "A = \\begin{bmatrix}\n",
    "-3 & 0\\\\\n",
    "3 & -3\\\\\n",
    "4 & -4\n",
    "\\end{bmatrix}\n",
    "$$"
   ]
  },
  {
   "cell_type": "code",
   "execution_count": 94,
   "id": "3f000f72",
   "metadata": {},
   "outputs": [],
   "source": [
    "A = np.array([[-3,  0],\n",
    "       [ 3, -3],\n",
    "       [ 4, -4]])"
   ]
  },
  {
   "cell_type": "code",
   "execution_count": 95,
   "id": "c507d85d",
   "metadata": {},
   "outputs": [],
   "source": [
    "U, D, V = np.linalg.svd(A)"
   ]
  },
  {
   "cell_type": "markdown",
   "id": "55175535",
   "metadata": {},
   "source": [
    "__Left singular vectors matrix (U):__"
   ]
  },
  {
   "cell_type": "code",
   "execution_count": 96,
   "id": "7d110e24",
   "metadata": {
    "hide_input": true
   },
   "outputs": [
    {
     "data": {
      "text/plain": [
       "array([[-0.31062008, -0.95053415,  0.        ],\n",
       "       [ 0.57032049, -0.18637205, -0.8       ],\n",
       "       [ 0.76042732, -0.24849607,  0.6       ]])"
      ]
     },
     "execution_count": 96,
     "metadata": {},
     "output_type": "execute_result"
    }
   ],
   "source": [
    "U"
   ]
  },
  {
   "cell_type": "markdown",
   "id": "79f44b04",
   "metadata": {},
   "source": [
    "__Singular values matrix (D):__"
   ]
  },
  {
   "cell_type": "code",
   "execution_count": 97,
   "id": "dadcc88c",
   "metadata": {
    "hide_input": true,
    "tags": [
     "hide_input"
    ]
   },
   "outputs": [
    {
     "data": {
      "text/plain": [
       "array([7.40957297, 2.02440816])"
      ]
     },
     "execution_count": 97,
     "metadata": {},
     "output_type": "execute_result"
    }
   ],
   "source": [
    "D"
   ]
  },
  {
   "cell_type": "markdown",
   "id": "e134ae68",
   "metadata": {},
   "source": [
    "We will generate it properly."
   ]
  },
  {
   "cell_type": "code",
   "execution_count": 98,
   "id": "88eaa923",
   "metadata": {},
   "outputs": [],
   "source": [
    "diag_matrix = np.zeros_like(A, dtype=np.float32)\n",
    "np.fill_diagonal(diag_matrix, D)"
   ]
  },
  {
   "cell_type": "code",
   "execution_count": 99,
   "id": "28c8c0c7",
   "metadata": {},
   "outputs": [
    {
     "data": {
      "text/plain": [
       "array([[7.409573, 0.      ],\n",
       "       [0.      , 2.024408],\n",
       "       [0.      , 0.      ]], dtype=float32)"
      ]
     },
     "execution_count": 99,
     "metadata": {},
     "output_type": "execute_result"
    }
   ],
   "source": [
    "diag_matrix"
   ]
  },
  {
   "cell_type": "markdown",
   "id": "ae79787c",
   "metadata": {},
   "source": [
    "__Right singular vectors matrix (V):__\n",
    "<br>__Note__: $V$ by default is transposed, so don't have to transpose it."
   ]
  },
  {
   "cell_type": "code",
   "execution_count": 100,
   "id": "772f73d2",
   "metadata": {
    "hide_input": true,
    "tags": [
     "hide_input"
    ]
   },
   "outputs": [
    {
     "data": {
      "text/plain": [
       "array([[ 0.7671874 , -0.64142303],\n",
       "       [ 0.64142303,  0.7671874 ]])"
      ]
     },
     "execution_count": 100,
     "metadata": {},
     "output_type": "execute_result"
    }
   ],
   "source": [
    "V"
   ]
  },
  {
   "cell_type": "markdown",
   "id": "2927823a",
   "metadata": {},
   "source": [
    "Let's multiply all three:"
   ]
  },
  {
   "cell_type": "code",
   "execution_count": 101,
   "id": "163e6f3a",
   "metadata": {},
   "outputs": [
    {
     "data": {
      "text/plain": [
       "array([[-3.,  0.],\n",
       "       [ 3., -3.],\n",
       "       [ 4., -4.]])"
      ]
     },
     "execution_count": 101,
     "metadata": {},
     "output_type": "execute_result"
    }
   ],
   "source": [
    "np.around(np.linalg.multi_dot((U,diag_matrix,V)), decimals=4)"
   ]
  },
  {
   "cell_type": "code",
   "execution_count": 102,
   "id": "5b191221",
   "metadata": {},
   "outputs": [
    {
     "data": {
      "text/plain": [
       "array([[-3,  0],\n",
       "       [ 3, -3],\n",
       "       [ 4, -4]])"
      ]
     },
     "execution_count": 102,
     "metadata": {},
     "output_type": "execute_result"
    }
   ],
   "source": [
    "A"
   ]
  },
  {
   "cell_type": "markdown",
   "id": "2c41de46",
   "metadata": {},
   "source": [
    "Both are same!!!\n",
    "<br>But how are $U$, $D$ and $V$ calculated?"
   ]
  },
  {
   "cell_type": "markdown",
   "id": "d9511bf3",
   "metadata": {},
   "source": [
    "$U$ is eigenvectors of $AA^T$:"
   ]
  },
  {
   "cell_type": "code",
   "execution_count": 103,
   "id": "c8cf99d7",
   "metadata": {},
   "outputs": [
    {
     "data": {
      "text/plain": [
       "array([[-0.95053415, -0.31062008,  0.        ],\n",
       "       [-0.18637205,  0.57032049, -0.8       ],\n",
       "       [-0.24849607,  0.76042732,  0.6       ]])"
      ]
     },
     "execution_count": 103,
     "metadata": {},
     "output_type": "execute_result"
    }
   ],
   "source": [
    "U_hat = np.linalg.eig(np.matmul(A, A.T))[1]\n",
    "U_hat"
   ]
  },
  {
   "cell_type": "code",
   "execution_count": 104,
   "id": "10949e5d",
   "metadata": {
    "scrolled": true
   },
   "outputs": [
    {
     "data": {
      "text/plain": [
       "array([[-0.31062008, -0.95053415,  0.        ],\n",
       "       [ 0.57032049, -0.18637205, -0.8       ],\n",
       "       [ 0.76042732, -0.24849607,  0.6       ]])"
      ]
     },
     "execution_count": 104,
     "metadata": {},
     "output_type": "execute_result"
    }
   ],
   "source": [
    "U"
   ]
  },
  {
   "cell_type": "markdown",
   "id": "0aa2fe2f",
   "metadata": {},
   "source": [
    "__Note:__ Since each column of eigenvector matrix represent an eigenvector, we might have a different order or sign(opposite direction) in eigenvectors. This does not change the fact that $U=eigenvectors(AA^T)$. We generally use numpy's SVD to be more accurate in eigenvector's order."
   ]
  },
  {
   "cell_type": "markdown",
   "id": "96f6835e",
   "metadata": {},
   "source": [
    "$D$ is non-zero eigenvalues of $A^TA$ or $AA^T$:"
   ]
  },
  {
   "cell_type": "code",
   "execution_count": 105,
   "id": "15c10ffc",
   "metadata": {},
   "outputs": [
    {
     "data": {
      "text/plain": [
       "array([2.02440806, 7.409573  , 0.        ])"
      ]
     },
     "execution_count": 105,
     "metadata": {},
     "output_type": "execute_result"
    }
   ],
   "source": [
    "D_hat = np.sqrt(np.around(np.linalg.eig(np.matmul(A, A.T))[0], decimals=6))\n",
    "D_hat"
   ]
  },
  {
   "cell_type": "code",
   "execution_count": 106,
   "id": "1fab1f62",
   "metadata": {
    "scrolled": true
   },
   "outputs": [
    {
     "data": {
      "text/plain": [
       "array([7.409573  , 2.02440806])"
      ]
     },
     "execution_count": 106,
     "metadata": {},
     "output_type": "execute_result"
    }
   ],
   "source": [
    "D_hat2 = np.sqrt(np.around(np.linalg.eig(np.matmul(A.T, A))[0], decimals=6))\n",
    "D_hat2"
   ]
  },
  {
   "cell_type": "code",
   "execution_count": 107,
   "id": "1e59aaf5",
   "metadata": {},
   "outputs": [
    {
     "data": {
      "text/plain": [
       "array([7.40957297, 2.02440816])"
      ]
     },
     "execution_count": 107,
     "metadata": {},
     "output_type": "execute_result"
    }
   ],
   "source": [
    "D"
   ]
  },
  {
   "cell_type": "markdown",
   "id": "a3930eba",
   "metadata": {},
   "source": [
    "$V$ is eigenvectors of $A^TA$:"
   ]
  },
  {
   "cell_type": "code",
   "execution_count": 108,
   "id": "1a88aacb",
   "metadata": {},
   "outputs": [
    {
     "data": {
      "text/plain": [
       "array([[ 0.7671874 , -0.64142303],\n",
       "       [ 0.64142303,  0.7671874 ]])"
      ]
     },
     "execution_count": 108,
     "metadata": {},
     "output_type": "execute_result"
    }
   ],
   "source": [
    "V_hat = np.linalg.eig(np.matmul(A.T, A))[1].T\n",
    "V_hat"
   ]
  },
  {
   "cell_type": "code",
   "execution_count": 109,
   "id": "550e4da6",
   "metadata": {},
   "outputs": [
    {
     "data": {
      "text/plain": [
       "array([[ 0.7671874 , -0.64142303],\n",
       "       [ 0.64142303,  0.7671874 ]])"
      ]
     },
     "execution_count": 109,
     "metadata": {},
     "output_type": "execute_result"
    }
   ],
   "source": [
    "V"
   ]
  },
  {
   "cell_type": "markdown",
   "id": "ddc28eed",
   "metadata": {},
   "source": [
    "### Applications of SVD:"
   ]
  },
  {
   "cell_type": "code",
   "execution_count": null,
   "id": "fe4d602a",
   "metadata": {},
   "outputs": [],
   "source": []
  }
 ],
 "metadata": {
  "kernelspec": {
   "display_name": "Python 3 (ipykernel)",
   "language": "python",
   "name": "python3"
  },
  "language_info": {
   "codemirror_mode": {
    "name": "ipython",
    "version": 3
   },
   "file_extension": ".py",
   "mimetype": "text/x-python",
   "name": "python",
   "nbconvert_exporter": "python",
   "pygments_lexer": "ipython3",
   "version": "3.8.13"
  }
 },
 "nbformat": 4,
 "nbformat_minor": 5
}
